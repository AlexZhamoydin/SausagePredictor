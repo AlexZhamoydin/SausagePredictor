{
 "cells": [
  {
   "cell_type": "code",
   "execution_count": 135,
   "id": "c4e597a2",
   "metadata": {
    "ExecuteTime": {
     "end_time": "2021-08-15T13:18:20.894661Z",
     "start_time": "2021-08-15T13:18:20.875712Z"
    }
   },
   "outputs": [],
   "source": [
    "import pandas as pd\n",
    "import numpy as np\n",
    "\n",
    "import matplotlib.pyplot as plt\n",
    "%matplotlib inline\n",
    "import seaborn as sns\n",
    "\n",
    "from sklearn.preprocessing import StandardScaler, OneHotEncoder\n",
    "from sklearn.model_selection import train_test_split, KFold, cross_val_score\n",
    "from sklearn.model_selection import GridSearchCV\n",
    "from sklearn.impute import SimpleImputer\n",
    "from sklearn.preprocessing import LabelEncoder\n",
    "from sklearn.pipeline import Pipeline\n",
    "\n",
    "from sklearn.compose import ColumnTransformer\n",
    "from sklearn.metrics import make_scorer, accuracy_score, precision_score, recall_score, f1_score\n",
    "\n",
    "from sklearn.linear_model import LogisticRegression\n",
    "from sklearn.linear_model import LinearRegression\n",
    "\n",
    "from sklearn.metrics import confusion_matrix, classification_report, precision_score\n",
    "from sklearn.metrics import roc_curve\n",
    "from sklearn.neighbors import KNeighborsClassifier\n",
    "\n",
    "from sklearn.base import BaseEstimator, TransformerMixin\n",
    "\n",
    "from sklearn.ensemble import RandomForestClassifier\n",
    "from sklearn.ensemble import RandomForestRegressor\n",
    "from sklearn.linear_model import Ridge\n",
    "\n",
    "# from catboost import CatBoostRegressor\n",
    "\n",
    "from sklearn.model_selection import TimeSeriesSplit\n",
    "\n",
    "from xgboost import XGBRegressor\n",
    "from lightgbm import LGBMRegressor\n",
    "\n",
    "import warnings\n",
    "warnings.filterwarnings('ignore')"
   ]
  },
  {
   "cell_type": "code",
   "execution_count": 136,
   "id": "074f70a5",
   "metadata": {
    "ExecuteTime": {
     "end_time": "2021-08-15T13:18:21.544593Z",
     "start_time": "2021-08-15T13:18:21.537611Z"
    }
   },
   "outputs": [],
   "source": [
    "pd.set_option('display.max_rows', 500)\n",
    "pd.set_option('display.max_colwidth', 500)\n",
    "pd.set_option('display.width', 1000)"
   ]
  },
  {
   "cell_type": "code",
   "execution_count": 137,
   "id": "d30df63d",
   "metadata": {
    "ExecuteTime": {
     "end_time": "2021-08-15T13:18:22.033600Z",
     "start_time": "2021-08-15T13:18:22.023625Z"
    }
   },
   "outputs": [],
   "source": [
    "# df = pd.read_csv(\"data/final_df.csv\")\n",
    "# df['date'] = pd.to_datetime(df['date'])"
   ]
  },
  {
   "cell_type": "code",
   "execution_count": 138,
   "id": "3dcdc87f",
   "metadata": {
    "ExecuteTime": {
     "end_time": "2021-08-15T13:18:22.507957Z",
     "start_time": "2021-08-15T13:18:22.490023Z"
    }
   },
   "outputs": [],
   "source": [
    "product = pd.read_csv('products.csv')\n",
    "store = pd.read_csv('stores.csv')\n",
    "\n",
    "store[\"store_id\"] = store[\"store_id\"].astype(\"object\")\n",
    "product[\"product_id\"] = product[\"product_id\"].astype(\"object\")\n",
    "\n",
    "store.drop_duplicates(inplace=True)\n",
    "product.drop_duplicates(inplace=True)"
   ]
  },
  {
   "cell_type": "code",
   "execution_count": 139,
   "id": "6613372e",
   "metadata": {
    "ExecuteTime": {
     "end_time": "2021-08-15T13:18:24.325956Z",
     "start_time": "2021-08-15T13:18:24.302020Z"
    }
   },
   "outputs": [],
   "source": [
    "def get_stats(X):\n",
    "    X = eval(str(X))\n",
    "    max_14 = np.max(X)\n",
    "    min_14 = min(X)\n",
    "    max_7 = max(X[7:])\n",
    "    min_7 = min(X[7:])\n",
    "    mean_14 = np.mean(X[:])\n",
    "    mean_7 = np.mean(X[7:])\n",
    "    mean_3 = np.mean(X[11:])\n",
    "    std_14 = np.std(X)\n",
    "    std_7 = np.std(X[7:])\n",
    "    std_3 = np.std(X[11:])\n",
    "    return pd.Series([max_14, min_14, max_7, min_7, mean_14, mean_7, mean_3, std_14, std_7, std_3], index=['max_14', 'min_14', 'max_7', 'min_7', 'mean_14', 'mean_7', 'mean_3', 'std_14', 'std_7', 'std_3'])\n",
    "\n",
    "\n",
    "class Stats_translate(BaseEstimator, TransformerMixin):\n",
    "    def __init__(self, base=np.exp(1)):\n",
    "        BaseEstimator.__init__(self)\n",
    "        TransformerMixin.__init__(self)\n",
    "        self.base = base\n",
    "\n",
    "    def fit(self, X, y=None):\n",
    "        return self\n",
    "\n",
    "    def transform(self, X, y=None):\n",
    "        Series_list = [get_stats(x) for x in X.sales]\n",
    "        return pd.DataFrame(Series_list)\n",
    "\n",
    "\n",
    "\n",
    "def transform_store_data(store_id):\n",
    "    store_data = store[store[\"store_id\"] == int(store_id)][['region', 'type']]\n",
    "    return store_data\n",
    "\n",
    "\n",
    "class Store_translate(BaseEstimator, TransformerMixin):\n",
    "\n",
    "    def __init__(self, base=np.exp(1)):\n",
    "        BaseEstimator.__init__(self)\n",
    "        TransformerMixin.__init__(self)\n",
    "        self.base = base\n",
    "\n",
    "    def fit(self, X, y=None):\n",
    "        return self\n",
    "\n",
    "    def transform(self, X, y=None):\n",
    "        store_id = X.store_id\n",
    "        df_list = [transform_store_data(i) for i in store_id]\n",
    "        return pd.concat(df_list)\n",
    "\n",
    "\n",
    "    \n",
    "def transform_product_data(product_id):\n",
    "    product_data = product[product[\"product_id\"] == int(\n",
    "        product_id)][[\"product_type\", \"manufacturer\"]]\n",
    "    return product_data\n",
    "\n",
    "\n",
    "class Product_translate(BaseEstimator, TransformerMixin):\n",
    "    def __init__(self, base=np.exp(1)):\n",
    "        BaseEstimator.__init__(self)\n",
    "        TransformerMixin.__init__(self)\n",
    "        self.base = base\n",
    "\n",
    "    def fit(self, X, y=None):\n",
    "        return self\n",
    "\n",
    "    def transform(self, X, y=None):\n",
    "        product_id = X.product_id\n",
    "        df_list = [transform_product_data(i) for i in product_id]\n",
    "        return pd.concat(df_list)"
   ]
  },
  {
   "cell_type": "code",
   "execution_count": 140,
   "id": "154a9b9d",
   "metadata": {
    "ExecuteTime": {
     "end_time": "2021-08-15T13:18:25.270604Z",
     "start_time": "2021-08-15T13:18:25.254647Z"
    }
   },
   "outputs": [],
   "source": [
    "lst_product = [['полуфабрикаты и субпродукты', 'ветчина', 'сосиски', 'колбасы',\n",
    "       'паштеты', 'рулеты', 'сар', 'сардельки', 'копчености'], ['галерея вкуса', 'ферма', 'виталюр', 'производство']]\n",
    "\n",
    "lst_store = [['Minsk', 'Mogilev', 'Minsk_reg', 'Grodno', 'Vitebsk', 'Brest'],['supermarket', 'minimarket']]"
   ]
  },
  {
   "cell_type": "code",
   "execution_count": 152,
   "id": "4c2e1982",
   "metadata": {
    "ExecuteTime": {
     "end_time": "2021-08-15T13:34:43.241863Z",
     "start_time": "2021-08-15T13:34:43.227905Z"
    }
   },
   "outputs": [],
   "source": [
    "product_ohe = OneHotEncoder(categories=lst_product).fit(product[[\"product_type\", \"manufacturer\"]])\n",
    "product_pipeline = Pipeline([\n",
    "    ('translate_product', Product_translate()),\n",
    "    (\"ohe\", product_ohe)\n",
    "])\n",
    "\n",
    "\n",
    "store_ohe = OneHotEncoder(categories=lst_store).fit(store[[\"region\", \"type\"]])\n",
    "store_pipeline = Pipeline([\n",
    "    ('translate_store', Store_translate()),\n",
    "    (\"ohe\", store_ohe)\n",
    "])\n",
    "\n",
    "translate_pipeline = Pipeline([\n",
    "    ('translate', Stats_translate())\n",
    "])\n",
    "\n",
    "preprocessor = ColumnTransformer(\n",
    "    transformers=[\n",
    "      ('get_store', store_pipeline, [\"store_id\"]),\n",
    "     ('get_product', product_pipeline, [\"product_id\"]),\n",
    "        ('stats', translate_pipeline, ['sales']),\n",
    "    ]\n",
    ")\n",
    "\n",
    "pipeline_prepare = Pipeline(\n",
    "    steps=[\n",
    "        ('preprocessing', preprocessor),\n",
    "        ]\n",
    ")\n",
    "\n",
    "\n",
    "\n",
    "pipeline_RandomForestRegressor = Pipeline(\n",
    "    steps=[\n",
    "        ('preprocessing', preprocessor),\n",
    "        (\"model\", RandomForestRegressor())\n",
    "    ]\n",
    ")\n",
    "\n",
    "\n",
    "pipeline_Ridge = Pipeline(\n",
    "    steps=[\n",
    "        ('preprocessing', preprocessor),\n",
    "        ('ss', StandardScaler()),\n",
    "        (\"model\", Ridge())\n",
    "    ]\n",
    ")\n",
    "\n",
    "pipeline_XGB = Pipeline(\n",
    "    steps=[\n",
    "        ('preprocessing', preprocessor),\n",
    "        (\"model\", XGBRegressor())\n",
    "    ]\n",
    ")\n",
    "\n",
    "pipeline_LGBM = Pipeline(\n",
    "    steps=[\n",
    "        ('preprocessing', preprocessor),\n",
    "        (\"model\", LGBMRegressor())\n",
    "    ]\n",
    ")\n"
   ]
  },
  {
   "cell_type": "code",
   "execution_count": 145,
   "id": "f8c72cc8",
   "metadata": {
    "ExecuteTime": {
     "end_time": "2021-08-15T13:25:37.532775Z",
     "start_time": "2021-08-15T13:25:37.245092Z"
    }
   },
   "outputs": [],
   "source": [
    "df = pd.read_csv(\"Ядерный_чемоданчик_clear.csv\")\n",
    "df.drop(columns=\"Unnamed: 0\", inplace=True)\n",
    "\n",
    "\n",
    "INDEX = df.target >0\n",
    "df = df[INDEX]\n",
    "X = df.drop(\"target\", axis = 1)\n",
    "y = df[\"target\"]\n"
   ]
  },
  {
   "cell_type": "code",
   "execution_count": null,
   "id": "0693ecad",
   "metadata": {
    "ExecuteTime": {
     "end_time": "2021-08-15T11:10:48.532539Z",
     "start_time": "2021-08-15T11:10:48.518575Z"
    }
   },
   "outputs": [],
   "source": []
  },
  {
   "cell_type": "code",
   "execution_count": 51,
   "id": "83d5eb5b",
   "metadata": {
    "ExecuteTime": {
     "end_time": "2021-08-15T10:45:09.089205Z",
     "start_time": "2021-08-15T10:42:59.701966Z"
    }
   },
   "outputs": [
    {
     "data": {
      "text/plain": [
       "Pipeline(steps=[('preprocessing',\n",
       "                 ColumnTransformer(transformers=[('get_store',\n",
       "                                                  Pipeline(steps=[('translate_store',\n",
       "                                                                   Store_translate()),\n",
       "                                                                  ('ohe',\n",
       "                                                                   OneHotEncoder(categories=[['Minsk',\n",
       "                                                                                              'Mogilev',\n",
       "                                                                                              'Minsk_reg',\n",
       "                                                                                              'Grodno',\n",
       "                                                                                              'Vitebsk',\n",
       "                                                                                              'Brest'],\n",
       "                                                                                             ['supermarket',\n",
       "                                                                                              'minimarket']]))]),\n",
       "                                                  ['store_id']),\n",
       "                                                 ('get_product',\n",
       "                                                  Pipeline(steps=[('translate_product',\n",
       "                                                                   Product_translate()),\n",
       "                                                                  ('ohe',\n",
       "                                                                   OneHotEncoder(categories=[['полуфабрикаты '\n",
       "                                                                                              'и '\n",
       "                                                                                              'субпродукты',\n",
       "                                                                                              'ветчина',\n",
       "                                                                                              'сосиски',\n",
       "                                                                                              'колбасы',\n",
       "                                                                                              'паштеты',\n",
       "                                                                                              'рулеты',\n",
       "                                                                                              'сар',\n",
       "                                                                                              'сардельки',\n",
       "                                                                                              'копчености'],\n",
       "                                                                                             ['галерея '\n",
       "                                                                                              'вкуса',\n",
       "                                                                                              'ферма',\n",
       "                                                                                              'виталюр',\n",
       "                                                                                              'производство']]))]),\n",
       "                                                  ['product_id']),\n",
       "                                                 ('stats',\n",
       "                                                  Pipeline(steps=[('translate',\n",
       "                                                                   Stats_translate())]),\n",
       "                                                  ['sales'])])),\n",
       "                ('model', RandomForestRegressor())])"
      ]
     },
     "execution_count": 51,
     "metadata": {},
     "output_type": "execute_result"
    }
   ],
   "source": [
    "pipeline_RandomForestRegressor.fit(X.iloc[:50000], y.iloc[:50000])"
   ]
  },
  {
   "cell_type": "code",
   "execution_count": 56,
   "id": "0705270d",
   "metadata": {
    "ExecuteTime": {
     "end_time": "2021-08-15T10:45:30.217350Z",
     "start_time": "2021-08-15T10:45:30.204425Z"
    }
   },
   "outputs": [],
   "source": [
    "import pickle\n",
    "with open('model_RandomForestRegressor.pkl', 'wb') as f:\n",
    "    pickle.dump(pipeline_RandomForestRegressor, f)"
   ]
  },
  {
   "cell_type": "code",
   "execution_count": null,
   "id": "b9ee3a20",
   "metadata": {},
   "outputs": [],
   "source": []
  },
  {
   "cell_type": "code",
   "execution_count": 15,
   "id": "12a3323f",
   "metadata": {
    "ExecuteTime": {
     "end_time": "2021-08-15T11:12:31.967792Z",
     "start_time": "2021-08-15T11:12:31.963803Z"
    }
   },
   "outputs": [],
   "source": [
    "tscv = TimeSeriesSplit(n_splits = 4)"
   ]
  },
  {
   "cell_type": "markdown",
   "id": "acc1948f",
   "metadata": {
    "ExecuteTime": {
     "end_time": "2021-08-15T10:49:22.648333Z",
     "start_time": "2021-08-15T10:49:22.636365Z"
    }
   },
   "source": [
    "# metrics"
   ]
  },
  {
   "cell_type": "markdown",
   "id": "c0326ed3",
   "metadata": {},
   "source": [
    "## Ridge"
   ]
  },
  {
   "cell_type": "code",
   "execution_count": 153,
   "id": "807064aa",
   "metadata": {
    "ExecuteTime": {
     "end_time": "2021-08-15T13:35:05.686625Z",
     "start_time": "2021-08-15T13:34:57.147831Z"
    }
   },
   "outputs": [],
   "source": [
    "a = cross_val_score(pipeline_Ridge, X.iloc[:1500], y[:1500], cv=tscv, scoring=\"neg_mean_absolute_percentage_error\")"
   ]
  },
  {
   "cell_type": "code",
   "execution_count": 154,
   "id": "38ee9591",
   "metadata": {
    "ExecuteTime": {
     "end_time": "2021-08-15T13:35:05.701818Z",
     "start_time": "2021-08-15T13:35:05.688865Z"
    }
   },
   "outputs": [
    {
     "data": {
      "text/plain": [
       "-0.8657447517317806"
      ]
     },
     "execution_count": 154,
     "metadata": {},
     "output_type": "execute_result"
    }
   ],
   "source": [
    "a.mean()"
   ]
  },
  {
   "cell_type": "code",
   "execution_count": 155,
   "id": "ed87ef8f",
   "metadata": {
    "ExecuteTime": {
     "end_time": "2021-08-15T13:36:03.245289Z",
     "start_time": "2021-08-15T13:35:05.703812Z"
    }
   },
   "outputs": [],
   "source": [
    "b = cross_val_score(pipeline_Ridge, X.iloc[:10000], y[:10000], cv=tscv, scoring=\"neg_mean_absolute_percentage_error\")"
   ]
  },
  {
   "cell_type": "code",
   "execution_count": 156,
   "id": "2300552d",
   "metadata": {
    "ExecuteTime": {
     "end_time": "2021-08-15T13:36:03.261246Z",
     "start_time": "2021-08-15T13:36:03.247283Z"
    }
   },
   "outputs": [
    {
     "data": {
      "text/plain": [
       "-0.5962727093574294"
      ]
     },
     "execution_count": 156,
     "metadata": {},
     "output_type": "execute_result"
    }
   ],
   "source": [
    "b.mean()"
   ]
  },
  {
   "cell_type": "code",
   "execution_count": null,
   "id": "f800a09f",
   "metadata": {},
   "outputs": [],
   "source": []
  },
  {
   "cell_type": "code",
   "execution_count": 132,
   "id": "421670d4",
   "metadata": {
    "ExecuteTime": {
     "end_time": "2021-08-15T13:06:15.047844Z",
     "start_time": "2021-08-15T13:06:15.032349Z"
    }
   },
   "outputs": [
    {
     "data": {
      "text/plain": [
       "array([-0.57484277, -0.61331976, -0.58614236, -0.60910566])"
      ]
     },
     "execution_count": 132,
     "metadata": {},
     "output_type": "execute_result"
    }
   ],
   "source": [
    "b"
   ]
  },
  {
   "cell_type": "code",
   "execution_count": 115,
   "id": "9d6a48dd",
   "metadata": {
    "ExecuteTime": {
     "end_time": "2021-08-15T13:00:36.149249Z",
     "start_time": "2021-08-15T12:56:37.567737Z"
    }
   },
   "outputs": [],
   "source": [
    "model = pipeline_Ridge.fit(X.iloc[:100000], y[:100000])\n"
   ]
  },
  {
   "cell_type": "code",
   "execution_count": 129,
   "id": "b0ed8655",
   "metadata": {
    "ExecuteTime": {
     "end_time": "2021-08-15T13:05:50.452809Z",
     "start_time": "2021-08-15T13:05:50.439603Z"
    }
   },
   "outputs": [],
   "source": [
    "from sklearn.metrics import mean_absolute_percentage_error"
   ]
  },
  {
   "cell_type": "code",
   "execution_count": 125,
   "id": "1990fb65",
   "metadata": {
    "ExecuteTime": {
     "end_time": "2021-08-15T13:04:33.401542Z",
     "start_time": "2021-08-15T13:04:30.164258Z"
    }
   },
   "outputs": [],
   "source": [
    "y_pred = model.predict(X.iloc[100001:101001])"
   ]
  },
  {
   "cell_type": "code",
   "execution_count": null,
   "id": "52126a82",
   "metadata": {},
   "outputs": [],
   "source": [
    "mean_absolute_percentage_error"
   ]
  },
  {
   "cell_type": "code",
   "execution_count": 130,
   "id": "6c733cff",
   "metadata": {
    "ExecuteTime": {
     "end_time": "2021-08-15T13:05:53.772824Z",
     "start_time": "2021-08-15T13:05:53.758132Z"
    }
   },
   "outputs": [
    {
     "data": {
      "text/plain": [
       "0.7456241930310983"
      ]
     },
     "execution_count": 130,
     "metadata": {},
     "output_type": "execute_result"
    }
   ],
   "source": [
    "mean_absolute_percentage_error(y[100001:101001], y_pred)"
   ]
  },
  {
   "cell_type": "code",
   "execution_count": 134,
   "id": "e8081723",
   "metadata": {
    "ExecuteTime": {
     "end_time": "2021-08-15T13:07:42.703841Z",
     "start_time": "2021-08-15T13:07:42.691895Z"
    }
   },
   "outputs": [],
   "source": [
    "import pickle\n",
    "with open('model_Ridge_100000.pkl', 'wb') as f:\n",
    "    pickle.dump(model, f)"
   ]
  },
  {
   "cell_type": "markdown",
   "id": "28146f4b",
   "metadata": {},
   "source": [
    "## XGB"
   ]
  },
  {
   "cell_type": "code",
   "execution_count": 16,
   "id": "fc894780",
   "metadata": {
    "ExecuteTime": {
     "end_time": "2021-08-15T11:12:44.047190Z",
     "start_time": "2021-08-15T11:12:34.748292Z"
    }
   },
   "outputs": [],
   "source": [
    "XGB_1500 = cross_val_score(pipeline_XGB, X.iloc[:1500], y[:1500], cv=tscv, scoring=\"neg_mean_absolute_percentage_error\")A"
   ]
  },
  {
   "cell_type": "code",
   "execution_count": 17,
   "id": "2abf83b2",
   "metadata": {
    "ExecuteTime": {
     "end_time": "2021-08-15T11:12:44.063147Z",
     "start_time": "2021-08-15T11:12:44.050182Z"
    }
   },
   "outputs": [
    {
     "data": {
      "text/plain": [
       "-0.9000816047165957"
      ]
     },
     "execution_count": 17,
     "metadata": {},
     "output_type": "execute_result"
    }
   ],
   "source": [
    "XGB_1500.mean()"
   ]
  },
  {
   "cell_type": "code",
   "execution_count": 25,
   "id": "62eda963",
   "metadata": {
    "ExecuteTime": {
     "end_time": "2021-08-15T11:21:47.121205Z",
     "start_time": "2021-08-15T11:19:30.581847Z"
    }
   },
   "outputs": [],
   "source": [
    "XGB_25000 = cross_val_score(pipeline_XGB, X.iloc[:25000], y[:25000], cv=tscv, scoring=\"neg_mean_absolute_percentage_error\")"
   ]
  },
  {
   "cell_type": "code",
   "execution_count": 26,
   "id": "2c8f432a",
   "metadata": {
    "ExecuteTime": {
     "end_time": "2021-08-15T11:21:47.146261Z",
     "start_time": "2021-08-15T11:21:47.122201Z"
    }
   },
   "outputs": [
    {
     "data": {
      "text/plain": [
       "-0.6441018165543617"
      ]
     },
     "execution_count": 26,
     "metadata": {},
     "output_type": "execute_result"
    }
   ],
   "source": [
    "XGB_25000.mean()"
   ]
  },
  {
   "cell_type": "code",
   "execution_count": 143,
   "id": "71418220",
   "metadata": {
    "ExecuteTime": {
     "end_time": "2021-08-15T13:24:26.040107Z",
     "start_time": "2021-08-15T13:21:59.462021Z"
    }
   },
   "outputs": [],
   "source": [
    "XGB_25000_load = cross_val_score(pipeline_XGB, X.iloc[:25000], y[:25000], cv=tscv, scoring=\"neg_mean_absolute_percentage_error\")"
   ]
  },
  {
   "cell_type": "code",
   "execution_count": 144,
   "id": "fed20bbf",
   "metadata": {
    "ExecuteTime": {
     "end_time": "2021-08-15T13:25:12.735129Z",
     "start_time": "2021-08-15T13:25:12.729144Z"
    }
   },
   "outputs": [
    {
     "data": {
      "text/plain": [
       "-0.6441018165543617"
      ]
     },
     "execution_count": 144,
     "metadata": {},
     "output_type": "execute_result"
    }
   ],
   "source": [
    "XGB_25000_load.mean()"
   ]
  },
  {
   "cell_type": "markdown",
   "id": "5803be4d",
   "metadata": {},
   "source": [
    "## traing to plot importance"
   ]
  },
  {
   "cell_type": "code",
   "execution_count": 91,
   "id": "13c9906f",
   "metadata": {
    "ExecuteTime": {
     "end_time": "2021-08-15T12:20:28.138355Z",
     "start_time": "2021-08-15T12:20:27.912868Z"
    }
   },
   "outputs": [
    {
     "data": {
      "text/plain": [
       "array([[1.        , 0.        , 0.        , ..., 1.11153922, 1.07269883,\n",
       "        0.40988562],\n",
       "       [1.        , 0.        , 0.        , ..., 7.71693076, 6.59931969,\n",
       "        7.36357401],\n",
       "       [1.        , 0.        , 0.        , ..., 0.70016711, 0.73579844,\n",
       "        0.66219232],\n",
       "       ...,\n",
       "       [1.        , 0.        , 0.        , ..., 1.11803399, 1.2453997 ,\n",
       "        0.47140452],\n",
       "       [1.        , 0.        , 0.        , ..., 0.88352263, 0.9035079 ,\n",
       "        0.47140452],\n",
       "       [1.        , 0.        , 0.        , ..., 2.4453204 , 2.79941685,\n",
       "        1.24721913]])"
      ]
     },
     "execution_count": 91,
     "metadata": {},
     "output_type": "execute_result"
    }
   ],
   "source": [
    "pipeline_prepare.fit_transform(X.iloc[:100])"
   ]
  },
  {
   "cell_type": "code",
   "execution_count": 97,
   "id": "f619e1e7",
   "metadata": {
    "ExecuteTime": {
     "end_time": "2021-08-15T12:24:09.647993Z",
     "start_time": "2021-08-15T12:24:09.615051Z"
    }
   },
   "outputs": [
    {
     "ename": "ValueError",
     "evalue": "DataFrame.dtypes for data must be int, float or bool.\nDid not expect the data types in the following fields: date, sales",
     "output_type": "error",
     "traceback": [
      "\u001b[1;31m---------------------------------------------------------------------------\u001b[0m",
      "\u001b[1;31mValueError\u001b[0m                                Traceback (most recent call last)",
      "\u001b[1;32m<ipython-input-97-480f467c47d5>\u001b[0m in \u001b[0;36m<module>\u001b[1;34m\u001b[0m\n\u001b[0;32m      1\u001b[0m \u001b[0mmodel_10000\u001b[0m \u001b[1;33m=\u001b[0m \u001b[0mLGBMRegressor\u001b[0m\u001b[1;33m(\u001b[0m\u001b[1;33m)\u001b[0m\u001b[1;33m\u001b[0m\u001b[1;33m\u001b[0m\u001b[0m\n\u001b[1;32m----> 2\u001b[1;33m \u001b[0mmodel_10000\u001b[0m\u001b[1;33m.\u001b[0m\u001b[0mfit\u001b[0m\u001b[1;33m(\u001b[0m\u001b[0mX\u001b[0m\u001b[1;33m.\u001b[0m\u001b[0miloc\u001b[0m\u001b[1;33m[\u001b[0m\u001b[1;33m:\u001b[0m\u001b[1;36m10\u001b[0m\u001b[1;33m]\u001b[0m\u001b[1;33m,\u001b[0m\u001b[0my\u001b[0m\u001b[1;33m[\u001b[0m\u001b[1;33m:\u001b[0m\u001b[1;36m10\u001b[0m\u001b[1;33m]\u001b[0m\u001b[1;33m)\u001b[0m\u001b[1;33m\u001b[0m\u001b[1;33m\u001b[0m\u001b[0m\n\u001b[0m",
      "\u001b[1;32m~\\anaconda3\\lib\\site-packages\\lightgbm\\sklearn.py\u001b[0m in \u001b[0;36mfit\u001b[1;34m(self, X, y, sample_weight, init_score, eval_set, eval_names, eval_sample_weight, eval_init_score, eval_metric, early_stopping_rounds, verbose, feature_name, categorical_feature, callbacks, init_model)\u001b[0m\n\u001b[0;32m    816\u001b[0m             callbacks=None, init_model=None):\n\u001b[0;32m    817\u001b[0m         \u001b[1;34m\"\"\"Docstring is inherited from the LGBMModel.\"\"\"\u001b[0m\u001b[1;33m\u001b[0m\u001b[1;33m\u001b[0m\u001b[0m\n\u001b[1;32m--> 818\u001b[1;33m         super().fit(X, y, sample_weight=sample_weight, init_score=init_score,\n\u001b[0m\u001b[0;32m    819\u001b[0m                     \u001b[0meval_set\u001b[0m\u001b[1;33m=\u001b[0m\u001b[0meval_set\u001b[0m\u001b[1;33m,\u001b[0m \u001b[0meval_names\u001b[0m\u001b[1;33m=\u001b[0m\u001b[0meval_names\u001b[0m\u001b[1;33m,\u001b[0m \u001b[0meval_sample_weight\u001b[0m\u001b[1;33m=\u001b[0m\u001b[0meval_sample_weight\u001b[0m\u001b[1;33m,\u001b[0m\u001b[1;33m\u001b[0m\u001b[1;33m\u001b[0m\u001b[0m\n\u001b[0;32m    820\u001b[0m                     \u001b[0meval_init_score\u001b[0m\u001b[1;33m=\u001b[0m\u001b[0meval_init_score\u001b[0m\u001b[1;33m,\u001b[0m \u001b[0meval_metric\u001b[0m\u001b[1;33m=\u001b[0m\u001b[0meval_metric\u001b[0m\u001b[1;33m,\u001b[0m\u001b[1;33m\u001b[0m\u001b[1;33m\u001b[0m\u001b[0m\n",
      "\u001b[1;32m~\\anaconda3\\lib\\site-packages\\lightgbm\\sklearn.py\u001b[0m in \u001b[0;36mfit\u001b[1;34m(self, X, y, sample_weight, init_score, group, eval_set, eval_names, eval_sample_weight, eval_class_weight, eval_init_score, eval_group, eval_metric, early_stopping_rounds, verbose, feature_name, categorical_feature, callbacks, init_model)\u001b[0m\n\u001b[0;32m    681\u001b[0m             \u001b[0minit_model\u001b[0m \u001b[1;33m=\u001b[0m \u001b[0minit_model\u001b[0m\u001b[1;33m.\u001b[0m\u001b[0mbooster_\u001b[0m\u001b[1;33m\u001b[0m\u001b[1;33m\u001b[0m\u001b[0m\n\u001b[0;32m    682\u001b[0m \u001b[1;33m\u001b[0m\u001b[0m\n\u001b[1;32m--> 683\u001b[1;33m         self._Booster = train(params, train_set,\n\u001b[0m\u001b[0;32m    684\u001b[0m                               \u001b[0mself\u001b[0m\u001b[1;33m.\u001b[0m\u001b[0mn_estimators\u001b[0m\u001b[1;33m,\u001b[0m \u001b[0mvalid_sets\u001b[0m\u001b[1;33m=\u001b[0m\u001b[0mvalid_sets\u001b[0m\u001b[1;33m,\u001b[0m \u001b[0mvalid_names\u001b[0m\u001b[1;33m=\u001b[0m\u001b[0meval_names\u001b[0m\u001b[1;33m,\u001b[0m\u001b[1;33m\u001b[0m\u001b[1;33m\u001b[0m\u001b[0m\n\u001b[0;32m    685\u001b[0m                               \u001b[0mearly_stopping_rounds\u001b[0m\u001b[1;33m=\u001b[0m\u001b[0mearly_stopping_rounds\u001b[0m\u001b[1;33m,\u001b[0m\u001b[1;33m\u001b[0m\u001b[1;33m\u001b[0m\u001b[0m\n",
      "\u001b[1;32m~\\anaconda3\\lib\\site-packages\\lightgbm\\engine.py\u001b[0m in \u001b[0;36mtrain\u001b[1;34m(params, train_set, num_boost_round, valid_sets, valid_names, fobj, feval, init_model, feature_name, categorical_feature, early_stopping_rounds, evals_result, verbose_eval, learning_rates, keep_training_booster, callbacks)\u001b[0m\n\u001b[0;32m    226\u001b[0m     \u001b[1;31m# construct booster\u001b[0m\u001b[1;33m\u001b[0m\u001b[1;33m\u001b[0m\u001b[1;33m\u001b[0m\u001b[0m\n\u001b[0;32m    227\u001b[0m     \u001b[1;32mtry\u001b[0m\u001b[1;33m:\u001b[0m\u001b[1;33m\u001b[0m\u001b[1;33m\u001b[0m\u001b[0m\n\u001b[1;32m--> 228\u001b[1;33m         \u001b[0mbooster\u001b[0m \u001b[1;33m=\u001b[0m \u001b[0mBooster\u001b[0m\u001b[1;33m(\u001b[0m\u001b[0mparams\u001b[0m\u001b[1;33m=\u001b[0m\u001b[0mparams\u001b[0m\u001b[1;33m,\u001b[0m \u001b[0mtrain_set\u001b[0m\u001b[1;33m=\u001b[0m\u001b[0mtrain_set\u001b[0m\u001b[1;33m)\u001b[0m\u001b[1;33m\u001b[0m\u001b[1;33m\u001b[0m\u001b[0m\n\u001b[0m\u001b[0;32m    229\u001b[0m         \u001b[1;32mif\u001b[0m \u001b[0mis_valid_contain_train\u001b[0m\u001b[1;33m:\u001b[0m\u001b[1;33m\u001b[0m\u001b[1;33m\u001b[0m\u001b[0m\n\u001b[0;32m    230\u001b[0m             \u001b[0mbooster\u001b[0m\u001b[1;33m.\u001b[0m\u001b[0mset_train_data_name\u001b[0m\u001b[1;33m(\u001b[0m\u001b[0mtrain_data_name\u001b[0m\u001b[1;33m)\u001b[0m\u001b[1;33m\u001b[0m\u001b[1;33m\u001b[0m\u001b[0m\n",
      "\u001b[1;32m~\\anaconda3\\lib\\site-packages\\lightgbm\\basic.py\u001b[0m in \u001b[0;36m__init__\u001b[1;34m(self, params, train_set, model_file, model_str, silent)\u001b[0m\n\u001b[0;32m   2227\u001b[0m                 )\n\u001b[0;32m   2228\u001b[0m             \u001b[1;31m# construct booster object\u001b[0m\u001b[1;33m\u001b[0m\u001b[1;33m\u001b[0m\u001b[1;33m\u001b[0m\u001b[0m\n\u001b[1;32m-> 2229\u001b[1;33m             \u001b[0mtrain_set\u001b[0m\u001b[1;33m.\u001b[0m\u001b[0mconstruct\u001b[0m\u001b[1;33m(\u001b[0m\u001b[1;33m)\u001b[0m\u001b[1;33m\u001b[0m\u001b[1;33m\u001b[0m\u001b[0m\n\u001b[0m\u001b[0;32m   2230\u001b[0m             \u001b[1;31m# copy the parameters from train_set\u001b[0m\u001b[1;33m\u001b[0m\u001b[1;33m\u001b[0m\u001b[1;33m\u001b[0m\u001b[0m\n\u001b[0;32m   2231\u001b[0m             \u001b[0mparams\u001b[0m\u001b[1;33m.\u001b[0m\u001b[0mupdate\u001b[0m\u001b[1;33m(\u001b[0m\u001b[0mtrain_set\u001b[0m\u001b[1;33m.\u001b[0m\u001b[0mget_params\u001b[0m\u001b[1;33m(\u001b[0m\u001b[1;33m)\u001b[0m\u001b[1;33m)\u001b[0m\u001b[1;33m\u001b[0m\u001b[1;33m\u001b[0m\u001b[0m\n",
      "\u001b[1;32m~\\anaconda3\\lib\\site-packages\\lightgbm\\basic.py\u001b[0m in \u001b[0;36mconstruct\u001b[1;34m(self)\u001b[0m\n\u001b[0;32m   1466\u001b[0m             \u001b[1;32melse\u001b[0m\u001b[1;33m:\u001b[0m\u001b[1;33m\u001b[0m\u001b[1;33m\u001b[0m\u001b[0m\n\u001b[0;32m   1467\u001b[0m                 \u001b[1;31m# create train\u001b[0m\u001b[1;33m\u001b[0m\u001b[1;33m\u001b[0m\u001b[1;33m\u001b[0m\u001b[0m\n\u001b[1;32m-> 1468\u001b[1;33m                 self._lazy_init(self.data, label=self.label,\n\u001b[0m\u001b[0;32m   1469\u001b[0m                                 \u001b[0mweight\u001b[0m\u001b[1;33m=\u001b[0m\u001b[0mself\u001b[0m\u001b[1;33m.\u001b[0m\u001b[0mweight\u001b[0m\u001b[1;33m,\u001b[0m \u001b[0mgroup\u001b[0m\u001b[1;33m=\u001b[0m\u001b[0mself\u001b[0m\u001b[1;33m.\u001b[0m\u001b[0mgroup\u001b[0m\u001b[1;33m,\u001b[0m\u001b[1;33m\u001b[0m\u001b[1;33m\u001b[0m\u001b[0m\n\u001b[0;32m   1470\u001b[0m                                 \u001b[0minit_score\u001b[0m\u001b[1;33m=\u001b[0m\u001b[0mself\u001b[0m\u001b[1;33m.\u001b[0m\u001b[0minit_score\u001b[0m\u001b[1;33m,\u001b[0m \u001b[0mpredictor\u001b[0m\u001b[1;33m=\u001b[0m\u001b[0mself\u001b[0m\u001b[1;33m.\u001b[0m\u001b[0m_predictor\u001b[0m\u001b[1;33m,\u001b[0m\u001b[1;33m\u001b[0m\u001b[1;33m\u001b[0m\u001b[0m\n",
      "\u001b[1;32m~\\anaconda3\\lib\\site-packages\\lightgbm\\basic.py\u001b[0m in \u001b[0;36m_lazy_init\u001b[1;34m(self, data, label, reference, weight, group, init_score, predictor, silent, feature_name, categorical_feature, params)\u001b[0m\n\u001b[0;32m   1207\u001b[0m             \u001b[0mself\u001b[0m\u001b[1;33m.\u001b[0m\u001b[0mpandas_categorical\u001b[0m \u001b[1;33m=\u001b[0m \u001b[0mreference\u001b[0m\u001b[1;33m.\u001b[0m\u001b[0mpandas_categorical\u001b[0m\u001b[1;33m\u001b[0m\u001b[1;33m\u001b[0m\u001b[0m\n\u001b[0;32m   1208\u001b[0m             \u001b[0mcategorical_feature\u001b[0m \u001b[1;33m=\u001b[0m \u001b[0mreference\u001b[0m\u001b[1;33m.\u001b[0m\u001b[0mcategorical_feature\u001b[0m\u001b[1;33m\u001b[0m\u001b[1;33m\u001b[0m\u001b[0m\n\u001b[1;32m-> 1209\u001b[1;33m         data, feature_name, categorical_feature, self.pandas_categorical = _data_from_pandas(data,\n\u001b[0m\u001b[0;32m   1210\u001b[0m                                                                                              \u001b[0mfeature_name\u001b[0m\u001b[1;33m,\u001b[0m\u001b[1;33m\u001b[0m\u001b[1;33m\u001b[0m\u001b[0m\n\u001b[0;32m   1211\u001b[0m                                                                                              \u001b[0mcategorical_feature\u001b[0m\u001b[1;33m,\u001b[0m\u001b[1;33m\u001b[0m\u001b[1;33m\u001b[0m\u001b[0m\n",
      "\u001b[1;32m~\\anaconda3\\lib\\site-packages\\lightgbm\\basic.py\u001b[0m in \u001b[0;36m_data_from_pandas\u001b[1;34m(data, feature_name, categorical_feature, pandas_categorical)\u001b[0m\n\u001b[0;32m    535\u001b[0m         \u001b[0mbad_indices\u001b[0m \u001b[1;33m=\u001b[0m \u001b[0m_get_bad_pandas_dtypes\u001b[0m\u001b[1;33m(\u001b[0m\u001b[0mdata\u001b[0m\u001b[1;33m.\u001b[0m\u001b[0mdtypes\u001b[0m\u001b[1;33m)\u001b[0m\u001b[1;33m\u001b[0m\u001b[1;33m\u001b[0m\u001b[0m\n\u001b[0;32m    536\u001b[0m         \u001b[1;32mif\u001b[0m \u001b[0mbad_indices\u001b[0m\u001b[1;33m:\u001b[0m\u001b[1;33m\u001b[0m\u001b[1;33m\u001b[0m\u001b[0m\n\u001b[1;32m--> 537\u001b[1;33m             raise ValueError(\"DataFrame.dtypes for data must be int, float or bool.\\n\"\n\u001b[0m\u001b[0;32m    538\u001b[0m                              \u001b[1;34m\"Did not expect the data types in the following fields: \"\u001b[0m\u001b[1;33m\u001b[0m\u001b[1;33m\u001b[0m\u001b[0m\n\u001b[0;32m    539\u001b[0m                              + ', '.join(data.columns[bad_indices]))\n",
      "\u001b[1;31mValueError\u001b[0m: DataFrame.dtypes for data must be int, float or bool.\nDid not expect the data types in the following fields: date, sales"
     ]
    }
   ],
   "source": [
    "model_10000 = LGBMRegressor()\n",
    "model_10000.fit(X.iloc[:10],y[:10])"
   ]
  },
  {
   "cell_type": "code",
   "execution_count": 95,
   "id": "716a9bba",
   "metadata": {
    "ExecuteTime": {
     "end_time": "2021-08-15T12:23:08.939938Z",
     "start_time": "2021-08-15T12:23:08.916970Z"
    }
   },
   "outputs": [
    {
     "ename": "AttributeError",
     "evalue": "'Pipeline' object has no attribute 'plot_importance'",
     "output_type": "error",
     "traceback": [
      "\u001b[1;31m---------------------------------------------------------------------------\u001b[0m",
      "\u001b[1;31mAttributeError\u001b[0m                            Traceback (most recent call last)",
      "\u001b[1;32m<ipython-input-95-605654734d40>\u001b[0m in \u001b[0;36m<module>\u001b[1;34m\u001b[0m\n\u001b[1;32m----> 1\u001b[1;33m \u001b[0mmodel_10000\u001b[0m\u001b[1;33m.\u001b[0m\u001b[0mplot_importance\u001b[0m\u001b[1;33m(\u001b[0m\u001b[1;33m)\u001b[0m\u001b[1;33m\u001b[0m\u001b[1;33m\u001b[0m\u001b[0m\n\u001b[0m",
      "\u001b[1;31mAttributeError\u001b[0m: 'Pipeline' object has no attribute 'plot_importance'"
     ]
    }
   ],
   "source": [
    "model_10000.plot_importance()"
   ]
  },
  {
   "cell_type": "code",
   "execution_count": 80,
   "id": "ef18a376",
   "metadata": {
    "ExecuteTime": {
     "end_time": "2021-08-15T11:54:58.050676Z",
     "start_time": "2021-08-15T11:54:58.033688Z"
    }
   },
   "outputs": [
    {
     "ename": "ValueError",
     "evalue": "tree must be Booster, XGBModel or dict instance",
     "output_type": "error",
     "traceback": [
      "\u001b[1;31m---------------------------------------------------------------------------\u001b[0m",
      "\u001b[1;31mValueError\u001b[0m                                Traceback (most recent call last)",
      "\u001b[1;32m<ipython-input-80-2b09c9c3237b>\u001b[0m in \u001b[0;36m<module>\u001b[1;34m\u001b[0m\n\u001b[0;32m      1\u001b[0m \u001b[1;32mfrom\u001b[0m \u001b[0mxgboost\u001b[0m \u001b[1;32mimport\u001b[0m \u001b[0mplot_importance\u001b[0m\u001b[1;33m\u001b[0m\u001b[1;33m\u001b[0m\u001b[0m\n\u001b[0;32m      2\u001b[0m \u001b[0mfig1\u001b[0m\u001b[1;33m=\u001b[0m\u001b[0mplt\u001b[0m\u001b[1;33m.\u001b[0m\u001b[0mgcf\u001b[0m\u001b[1;33m(\u001b[0m\u001b[1;33m)\u001b[0m\u001b[1;33m\u001b[0m\u001b[1;33m\u001b[0m\u001b[0m\n\u001b[1;32m----> 3\u001b[1;33m \u001b[0mplot_importance\u001b[0m\u001b[1;33m(\u001b[0m\u001b[0mmodel_10000\u001b[0m\u001b[1;33m)\u001b[0m\u001b[1;33m\u001b[0m\u001b[1;33m\u001b[0m\u001b[0m\n\u001b[0m\u001b[0;32m      4\u001b[0m \u001b[0mplt\u001b[0m\u001b[1;33m.\u001b[0m\u001b[0mdraw\u001b[0m\u001b[1;33m(\u001b[0m\u001b[1;33m)\u001b[0m\u001b[1;33m\u001b[0m\u001b[1;33m\u001b[0m\u001b[0m\n",
      "\u001b[1;32m~\\anaconda3\\lib\\site-packages\\xgboost\\plotting.py\u001b[0m in \u001b[0;36mplot_importance\u001b[1;34m(booster, ax, height, xlim, ylim, title, xlabel, ylabel, fmap, importance_type, max_num_features, grid, show_values, **kwargs)\u001b[0m\n\u001b[0;32m     68\u001b[0m         \u001b[0mimportance\u001b[0m \u001b[1;33m=\u001b[0m \u001b[0mbooster\u001b[0m\u001b[1;33m\u001b[0m\u001b[1;33m\u001b[0m\u001b[0m\n\u001b[0;32m     69\u001b[0m     \u001b[1;32melse\u001b[0m\u001b[1;33m:\u001b[0m\u001b[1;33m\u001b[0m\u001b[1;33m\u001b[0m\u001b[0m\n\u001b[1;32m---> 70\u001b[1;33m         \u001b[1;32mraise\u001b[0m \u001b[0mValueError\u001b[0m\u001b[1;33m(\u001b[0m\u001b[1;34m'tree must be Booster, XGBModel or dict instance'\u001b[0m\u001b[1;33m)\u001b[0m\u001b[1;33m\u001b[0m\u001b[1;33m\u001b[0m\u001b[0m\n\u001b[0m\u001b[0;32m     71\u001b[0m \u001b[1;33m\u001b[0m\u001b[0m\n\u001b[0;32m     72\u001b[0m     \u001b[1;32mif\u001b[0m \u001b[1;32mnot\u001b[0m \u001b[0mimportance\u001b[0m\u001b[1;33m:\u001b[0m\u001b[1;33m\u001b[0m\u001b[1;33m\u001b[0m\u001b[0m\n",
      "\u001b[1;31mValueError\u001b[0m: tree must be Booster, XGBModel or dict instance"
     ]
    },
    {
     "data": {
      "text/plain": [
       "<Figure size 432x288 with 0 Axes>"
      ]
     },
     "metadata": {},
     "output_type": "display_data"
    }
   ],
   "source": [
    "from xgboost import plot_importance\n",
    "fig1=plt.gcf()\n",
    "plot_importance(model_10000)\n",
    "plt.draw()"
   ]
  },
  {
   "cell_type": "markdown",
   "id": "5a535e2f",
   "metadata": {},
   "source": [
    "## LGBM"
   ]
  },
  {
   "cell_type": "code",
   "execution_count": 146,
   "id": "394342de",
   "metadata": {
    "ExecuteTime": {
     "end_time": "2021-08-15T13:26:19.789640Z",
     "start_time": "2021-08-15T13:25:50.183856Z"
    }
   },
   "outputs": [],
   "source": [
    "LGBM_5000 = cross_val_score(pipeline_LGBM, X.iloc[:5000], y[:5000], cv=tscv, scoring=\"neg_mean_absolute_percentage_error\")"
   ]
  },
  {
   "cell_type": "code",
   "execution_count": 147,
   "id": "65a509b3",
   "metadata": {
    "ExecuteTime": {
     "end_time": "2021-08-15T13:26:19.805597Z",
     "start_time": "2021-08-15T13:26:19.792631Z"
    }
   },
   "outputs": [
    {
     "data": {
      "text/plain": [
       "-0.6588875795637728"
      ]
     },
     "execution_count": 147,
     "metadata": {},
     "output_type": "execute_result"
    }
   ],
   "source": [
    "LGBM_5000.mean()"
   ]
  },
  {
   "cell_type": "code",
   "execution_count": 47,
   "id": "3d192e9b",
   "metadata": {
    "ExecuteTime": {
     "end_time": "2021-08-15T11:32:59.423405Z",
     "start_time": "2021-08-15T11:30:43.618092Z"
    }
   },
   "outputs": [],
   "source": [
    "LGBM_25000 = cross_val_score(pipeline_LGBM, X.iloc[:25000], y[:25000], cv=tscv, scoring=\"neg_mean_absolute_percentage_error\")"
   ]
  },
  {
   "cell_type": "code",
   "execution_count": 48,
   "id": "f4c59256",
   "metadata": {
    "ExecuteTime": {
     "end_time": "2021-08-15T11:32:59.438365Z",
     "start_time": "2021-08-15T11:32:59.426951Z"
    }
   },
   "outputs": [
    {
     "data": {
      "text/plain": [
       "-0.6366515509448767"
      ]
     },
     "execution_count": 48,
     "metadata": {},
     "output_type": "execute_result"
    }
   ],
   "source": [
    "LGBM_25000.mean()"
   ]
  },
  {
   "cell_type": "markdown",
   "id": "0dd389f7",
   "metadata": {},
   "source": [
    "## RandomForestRegressor"
   ]
  },
  {
   "cell_type": "code",
   "execution_count": 101,
   "id": "c2ff62ef",
   "metadata": {
    "ExecuteTime": {
     "end_time": "2021-08-15T12:25:31.068507Z",
     "start_time": "2021-08-15T12:25:31.057536Z"
    }
   },
   "outputs": [],
   "source": [
    "params = {\"model__n_estimators\": [100, 150, 200], \"model__max_depth\": [3,5,7]}\n",
    "tscv = TimeSeriesSplit(n_splits = 4)\n",
    "scoring = \"neg_mean_absolute_percentage_error\"\n",
    "\n",
    "search = GridSearchCV(pipeline_RandomForestRegressor, param_grid=params, cv=tscv, scoring=scoring)"
   ]
  },
  {
   "cell_type": "code",
   "execution_count": 102,
   "id": "b52f4a91",
   "metadata": {
    "ExecuteTime": {
     "end_time": "2021-08-15T12:36:12.433322Z",
     "start_time": "2021-08-15T12:25:31.234473Z"
    }
   },
   "outputs": [
    {
     "data": {
      "text/plain": [
       "GridSearchCV(cv=TimeSeriesSplit(gap=0, max_train_size=None, n_splits=4, test_size=None),\n",
       "             estimator=Pipeline(steps=[('preprocessing',\n",
       "                                        ColumnTransformer(transformers=[('get_store',\n",
       "                                                                         Pipeline(steps=[('translate_store',\n",
       "                                                                                          Store_translate()),\n",
       "                                                                                         ('ohe',\n",
       "                                                                                          OneHotEncoder(categories=[['Minsk',\n",
       "                                                                                                                     'Mogilev',\n",
       "                                                                                                                     'Minsk_reg',\n",
       "                                                                                                                     'Grodno',\n",
       "                                                                                                                     'Vitebsk',\n",
       "                                                                                                                     'Brest'],\n",
       "                                                                                                                    ['supermarket',\n",
       "                                                                                                                     'minimarket']]))...\n",
       "                                                                                                                     'паштеты',\n",
       "                                                                                                                     'рулеты',\n",
       "                                                                                                                     'сар',\n",
       "                                                                                                                     'сардельки',\n",
       "                                                                                                                     'копчености'],\n",
       "                                                                                                                    ['галерея '\n",
       "                                                                                                                     'вкуса',\n",
       "                                                                                                                     'ферма',\n",
       "                                                                                                                     'виталюр',\n",
       "                                                                                                                     'производство']]))]),\n",
       "                                                                         ['product_id']),\n",
       "                                                                        ('stats',\n",
       "                                                                         Pipeline(steps=[('translate',\n",
       "                                                                                          Stats_translate())]),\n",
       "                                                                         ['sales'])])),\n",
       "                                       ('model', RandomForestRegressor())]),\n",
       "             param_grid={'model__max_depth': [3, 5, 7],\n",
       "                         'model__n_estimators': [100, 150, 200]},\n",
       "             scoring='neg_mean_absolute_percentage_error')"
      ]
     },
     "execution_count": 102,
     "metadata": {},
     "output_type": "execute_result"
    }
   ],
   "source": [
    "search.fit(X.iloc[:10000], y[:10000])"
   ]
  },
  {
   "cell_type": "code",
   "execution_count": 104,
   "id": "b78ea10b",
   "metadata": {
    "ExecuteTime": {
     "end_time": "2021-08-15T12:36:53.196851Z",
     "start_time": "2021-08-15T12:36:53.181873Z"
    }
   },
   "outputs": [
    {
     "data": {
      "text/plain": [
       "-0.6129210781930874"
      ]
     },
     "execution_count": 104,
     "metadata": {},
     "output_type": "execute_result"
    }
   ],
   "source": [
    "search.best_score_"
   ]
  },
  {
   "cell_type": "code",
   "execution_count": 105,
   "id": "f33d441b",
   "metadata": {
    "ExecuteTime": {
     "end_time": "2021-08-15T12:47:33.602782Z",
     "start_time": "2021-08-15T12:47:33.589157Z"
    }
   },
   "outputs": [
    {
     "data": {
      "text/plain": [
       "{'model__max_depth': 7, 'model__n_estimators': 200}"
      ]
     },
     "execution_count": 105,
     "metadata": {},
     "output_type": "execute_result"
    }
   ],
   "source": [
    "search.best_params_"
   ]
  },
  {
   "cell_type": "markdown",
   "id": "a0215759",
   "metadata": {},
   "source": [
    "### trash"
   ]
  },
  {
   "cell_type": "code",
   "execution_count": null,
   "id": "8e361ad0",
   "metadata": {
    "ExecuteTime": {
     "end_time": "2021-08-15T07:20:00.390534Z",
     "start_time": "2021-08-15T07:20:00.377113Z"
    }
   },
   "outputs": [],
   "source": [
    "from sklearn.metrics import mean_absolute_percentage_error\n",
    "from sklearn.metrics import mean_absolute_error\n",
    "from sklearn.metrics import r2_score"
   ]
  },
  {
   "cell_type": "code",
   "execution_count": null,
   "id": "4901c684",
   "metadata": {
    "ExecuteTime": {
     "end_time": "2021-08-15T08:43:19.905932Z",
     "start_time": "2021-08-15T08:43:19.891937Z"
    }
   },
   "outputs": [
    {
     "data": {
      "text/plain": [
       "0.6844294483436921"
      ]
     },
     "execution_count": 446,
     "metadata": {},
     "output_type": "execute_result"
    }
   ],
   "source": [
    "r2_score(y[120001:], y_pred)"
   ]
  },
  {
   "cell_type": "code",
   "execution_count": null,
   "id": "d5149489",
   "metadata": {
    "ExecuteTime": {
     "end_time": "2021-08-15T08:43:19.921881Z",
     "start_time": "2021-08-15T08:43:19.907894Z"
    }
   },
   "outputs": [
    {
     "data": {
      "text/plain": [
       "7.761556027871489"
      ]
     },
     "execution_count": 447,
     "metadata": {},
     "output_type": "execute_result"
    }
   ],
   "source": [
    "mean_absolute_error(y[120001:], y_pred)"
   ]
  },
  {
   "cell_type": "code",
   "execution_count": null,
   "id": "4ff2fd1b",
   "metadata": {
    "ExecuteTime": {
     "end_time": "2021-08-15T08:43:43.101522Z",
     "start_time": "2021-08-15T08:43:43.093544Z"
    }
   },
   "outputs": [
    {
     "data": {
      "text/plain": [
       "1.2382627372541997"
      ]
     },
     "execution_count": 450,
     "metadata": {},
     "output_type": "execute_result"
    }
   ],
   "source": [
    "mean_absolute_percentage_error(y[120001:] + 0.0005, y_pred)"
   ]
  },
  {
   "cell_type": "code",
   "execution_count": 165,
   "id": "4bc410c5",
   "metadata": {
    "ExecuteTime": {
     "end_time": "2021-08-15T13:42:39.872090Z",
     "start_time": "2021-08-15T13:42:39.733412Z"
    }
   },
   "outputs": [
    {
     "data": {
      "text/plain": [
       "[Text(0, 0, 'Регион'),\n",
       " Text(1, 0, 'Тип магазина'),\n",
       " Text(2, 0, 'тип продукта'),\n",
       " Text(3, 0, 'производитель')]"
      ]
     },
     "execution_count": 165,
     "metadata": {},
     "output_type": "execute_result"
    },
    {
     "data": {
      "image/png": "[encoded data removed]",
      "text/plain": [
       "<Figure size 432x288 with 1 Axes>"
      ]
     },
     "metadata": {
      "needs_background": "light"
     },
     "output_type": "display_data"
    }
   ],
   "source": [
    "my_dict = {'Регион': [4.32771671], 'Тип магазина': [6.20173526], \"тип продукта\": [3.36497995], \"производитель\":  0.513122776}\n",
    "\n",
    "fig, ax = plt.subplots()\n",
    "ax.\n",
    "ax.bar(my_dict.keys(),my_dict.values(), color=[\"yellow\", \"red\", \"green\", \"blue\"])\n",
    "ax.set_xticklabels(my_dict.keys())"
   ]
  },
  {
   "cell_type": "code",
   "execution_count": null,
   "id": "dfa74d0c",
   "metadata": {},
   "outputs": [],
   "source": []
  }
 ],
 "metadata": {
  "interpreter": {
   "hash": "183bbf6827d058c2a2fb0f4acdc0420849dda2b4380af0e437e38c64d798d8b7"
  },
  "kernelspec": {
   "display_name": "Python 3",
   "language": "python",
   "name": "python3"
  },
  "language_info": {
   "codemirror_mode": {
    "name": "ipython",
    "version": 3
   },
   "file_extension": ".py",
   "mimetype": "text/x-python",
   "name": "python",
   "nbconvert_exporter": "python",
   "pygments_lexer": "ipython3",
   "version": "3.8.8"
  },
  "toc": {
   "base_numbering": 1,
   "nav_menu": {},
   "number_sections": true,
   "sideBar": true,
   "skip_h1_title": true,
   "title_cell": "Table of Contents",
   "title_sidebar": "Contents",
   "toc_cell": false,
   "toc_position": {},
   "toc_section_display": true,
   "toc_window_display": false
  }
 },
 "nbformat": 4,
 "nbformat_minor": 5
}
