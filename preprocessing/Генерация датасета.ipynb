{
 "cells": [
  {
   "cell_type": "code",
   "execution_count": null,
   "source": [
    "import pandas as pd\r\n",
    "import seaborn as sns\r\n",
    "import matplotlib.pyplot as plt\r\n",
    "import numpy as np\r\n",
    "from datetime import timedelta\r\n",
    "pd.set_option('display.max_rows', 500)\r\n",
    "pd.set_option('display.max_colwidth', 500)\r\n",
    "pd.set_option('display.width', 1000)"
   ],
   "outputs": [],
   "metadata": {}
  },
  {
   "cell_type": "markdown",
   "source": [
    "# Reading"
   ],
   "metadata": {}
  },
  {
   "cell_type": "code",
   "execution_count": null,
   "source": [
    "df = pd.read_csv('cleared_df.csv')\r\n",
    "df = df[['date','product_id','store_id','sale_amount']]\r\n",
    "df.date = pd.to_datetime(df.date)\r\n",
    "df = df.sort_values('date')"
   ],
   "outputs": [],
   "metadata": {}
  },
  {
   "cell_type": "markdown",
   "source": [
    "# Generate dataset for pipeline"
   ],
   "metadata": {}
  },
  {
   "cell_type": "code",
   "execution_count": null,
   "source": [
    "def get_days(X, begin_date):\r\n",
    "    date = begin_date\r\n",
    "    product_id = X.iloc[0].product_id\r\n",
    "    store_id = X.iloc[0].store_id\r\n",
    "    sales = [ 0 for i in range(14)]\r\n",
    "    for i in range(14):\r\n",
    "        day = X[X.date == date + timedelta(days = i) ]\r\n",
    "        if len(day)==0:\r\n",
    "            sales[i] = 0.0\r\n",
    "        else:\r\n",
    "            sales[i] = day.sale_amount.iloc[0]\r\n",
    "\r\n",
    "    return pd.Series([date, product_id, store_id, sales],index=['date', 'product_id', 'store_id', 'sales'])\r\n",
    "    \r\n",
    "start_date = df.sort_values('date').date.iloc[0]\r\n",
    "\r\n",
    "series_list = []  \r\n",
    "targets = []\r\n",
    "for i in range(365*3//7):\r\n",
    "    print(\"Progress : \" + str( round(100*i/(365*3//7),2)) + \"%\")\r\n",
    "    X_begin = start_date + timedelta(days=i*7)\r\n",
    "    X_end = start_date + timedelta(days=(i+2)*7)\r\n",
    "    y_begin = start_date + timedelta(days=(i+3)*7)\r\n",
    "    y_end = start_date + timedelta(days=(i+4)*7)\r\n",
    "    full_period = df[(df.date >= X_begin) & (df.date < y_end)]\r\n",
    "    X_period = full_period[full_period.date < X_end]\r\n",
    "    y_period = full_period[full_period.date >= y_begin]\r\n",
    "    stores_products = full_period.groupby(['store_id', 'product_id']).max().index\r\n",
    "    for store, product in stores_products:\r\n",
    "        #print(store, product)\r\n",
    "        sp_X_period = X_period[(X_period.product_id == product) & (\r\n",
    "            X_period.store_id == store)]\r\n",
    "        sp_y_period = y_period[(y_period.product_id == product) & (\r\n",
    "            y_period.store_id == store)]\r\n",
    "        if len(sp_X_period) != 0 and len(sp_y_period) != 0:\r\n",
    "            series_list.append(get_days(sp_X_period, X_begin).append(pd.Series([sp_y_period.sale_amount.sum()], index = ['target'])))\r\n",
    "\r\n",
    "\r\n"
   ],
   "outputs": [],
   "metadata": {}
  },
  {
   "cell_type": "code",
   "execution_count": null,
   "source": [
    "concated = pd.DataFrame( series_list)\r\n",
    "concated.to_csv('Ядерный_чемоданчик_clear.csv')"
   ],
   "outputs": [],
   "metadata": {}
  },
  {
   "cell_type": "code",
   "execution_count": null,
   "source": [
    "store_df = df.groupby('store_id').max()[['store_address','region','type']]\r\n",
    "store_df.to_csv('stores.csv')"
   ],
   "outputs": [],
   "metadata": {}
  },
  {
   "cell_type": "code",
   "execution_count": null,
   "source": [
    "product_df =df.groupby('product_id').first()[['product_name','product_type','manufacturer']]\r\n",
    "product_df.to_csv('products.csv')"
   ],
   "outputs": [],
   "metadata": {}
  }
 ],
 "metadata": {
  "orig_nbformat": 4,
  "language_info": {
   "name": "python"
  }
 },
 "nbformat": 4,
 "nbformat_minor": 2
}